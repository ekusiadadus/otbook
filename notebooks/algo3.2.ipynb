{
 "cells": [
  {
   "cell_type": "markdown",
   "metadata": {},
   "source": [
    "# シンクホーンアルゴリズム（アルゴリズム 3.2）"
   ]
  },
  {
   "cell_type": "code",
   "execution_count": 1,
   "metadata": {},
   "outputs": [],
   "source": [
    "import numpy as np\n",
    "import matplotlib.pyplot as plt"
   ]
  },
  {
   "cell_type": "code",
   "execution_count": 2,
   "metadata": {},
   "outputs": [],
   "source": [
    "# データの生成（式 (2.22)）\n",
    "n, m = 4, 4\n",
    "C = np.array([\n",
    "    [0, 2, 2, 2],\n",
    "    [2, 0, 1, 2],\n",
    "    [2, 1, 0, 2],\n",
    "    [2, 2, 2, 0]])\n",
    "a = np.array([0.2, 0.5, 0.2, 0.1])\n",
    "b = np.array([0.3, 0.3, 0.4, 0.0])"
   ]
  },
  {
   "cell_type": "code",
   "execution_count": 7,
   "metadata": {},
   "outputs": [
    {
     "data": {
      "text/plain": [
       "<matplotlib.image.AxesImage at 0x11fb8ef10>"
      ]
     },
     "execution_count": 7,
     "metadata": {},
     "output_type": "execute_result"
    },
    {
     "data": {
      "image/png": "[encoded data removed]",
      "text/plain": [
       "<Figure size 640x480 with 1 Axes>"
      ]
     },
     "metadata": {},
     "output_type": "display_data"
    }
   ],
   "source": [
    "# シンクホーンアルゴリズム（アルゴリズム 3.2）\n",
    "\n",
    "eps = 0.2 # 大きいと高速に、小さいと厳密に\n",
    "K = np.exp(- C / eps) # ギブスカーネルの計算\n",
    "\n",
    "u = np.ones(n) # すべて 1 で初期化\n",
    "for i in range(100):\n",
    "    v = b / (K.T @ u)\n",
    "    u = a / (K @ v)\n",
    "\n",
    "f = eps * np.log(u + 1e-9) # 対数領域に戻す\n",
    "g = eps * np.log(v + 1e-9) # 対数領域に戻す\n",
    "\n",
    "P = u.reshape(n, 1) * K * v.reshape(1, m) # 主解\n",
    "\n",
    "plt.imshow(P, cmap=plt.cm.Blues) # 解の可視化 （式 (2.23) も参照）"
   ]
  },
  {
   "cell_type": "code",
   "execution_count": null,
   "metadata": {},
   "outputs": [],
   "source": []
  }
 ],
 "metadata": {
  "kernelspec": {
   "display_name": "Python 3.8.3 ('base')",
   "language": "python",
   "name": "python3"
  },
  "language_info": {
   "codemirror_mode": {
    "name": "ipython",
    "version": 3
   },
   "file_extension": ".py",
   "mimetype": "text/x-python",
   "name": "python",
   "nbconvert_exporter": "python",
   "pygments_lexer": "ipython3",
   "version": "3.11.3"
  },
  "orig_nbformat": 4,
  "vscode": {
   "interpreter": {
    "hash": "44a2b068c0f563b0ccee5ab3b9cf7ca27efea6d57d435efed0db203d351dddef"
   }
  }
 },
 "nbformat": 4,
 "nbformat_minor": 2
}
